{
  "nbformat": 4,
  "nbformat_minor": 0,
  "metadata": {
    "colab": {
      "provenance": [],
      "authorship_tag": "ABX9TyPFZrLs7AY/bH4aJqEL1XAE",
      "include_colab_link": true
    },
    "kernelspec": {
      "name": "python3",
      "display_name": "Python 3"
    },
    "language_info": {
      "name": "python"
    }
  },
  "cells": [
    {
      "cell_type": "markdown",
      "metadata": {
        "id": "view-in-github",
        "colab_type": "text"
      },
      "source": [
        "<a href=\"https://colab.research.google.com/github/Storm00212/Introduction-to-machine-learning-models/blob/main/A_slightly_more_complex_neural_network_showing_the_effect_of_layers_in_a_neural_network%2Cdata_splitting_and_data_cleanup.ipynb\" target=\"_parent\"><img src=\"https://colab.research.google.com/assets/colab-badge.svg\" alt=\"Open In Colab\"/></a>"
      ]
    },
    {
      "cell_type": "markdown",
      "source": [
        "# **Complex Neural Networks**\n",
        "\n",
        "> Diving deeper into neural network workflow\n",
        "\n",
        "\n",
        "In this section we will look at the full professional workflow of creating a neural network.\n",
        "\n",
        "We will look at how data is cleaned and preprocessed to train a neural network.\n",
        "\n",
        "We will also look at how neural network layers affect training of the model, exploring concepts like underfitting and overfitting, let us take a deep dive into this."
      ],
      "metadata": {
        "id": "9lDyh4_L_VzY"
      }
    },
    {
      "cell_type": "code",
      "source": [
        "\n",
        "# Importing libraries.\n",
        "import numpy as np\n",
        "import pandas as pd\n",
        "import matplotlib.pyplot as plt\n",
        "from tensorflow.keras.models import Sequential\n",
        "from tensorflow.keras.layers import Dense\n",
        "from tensorflow.keras.optimizers import Adam\n",
        "from sklearn.model_selection import train_test_split\n",
        "from sklearn.preprocessing import StandardScaler"
      ],
      "metadata": {
        "id": "ApxoLxpyAXTB"
      },
      "execution_count": 4,
      "outputs": []
    },
    {
      "cell_type": "markdown",
      "source": [
        "## Next we will create some sample data for our neural network."
      ],
      "metadata": {
        "id": "ECI5h7zoAh6I"
      }
    },
    {
      "cell_type": "code",
      "source": [
        "# 2. Generate Synthetic Data (y = 2x + 1 + noise)\n",
        "np.random.seed(42)  # for reproducibility\n",
        "x = np.linspace(-10, 10, 200)\n",
        "y = 2 * x + 1 + np.random.randn(*x.shape) * 4  # Linear pattern with noise"
      ],
      "metadata": {
        "id": "yrsSThlWBCaU"
      },
      "execution_count": 6,
      "outputs": []
    }
  ]
}