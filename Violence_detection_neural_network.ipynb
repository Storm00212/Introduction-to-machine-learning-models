{
  "nbformat": 4,
  "nbformat_minor": 0,
  "metadata": {
    "colab": {
      "provenance": [],
      "authorship_tag": "ABX9TyMDSAOxpdhV7K5/zO43PaLi",
      "include_colab_link": true
    },
    "kernelspec": {
      "name": "python3",
      "display_name": "Python 3"
    },
    "language_info": {
      "name": "python"
    }
  },
  "cells": [
    {
      "cell_type": "markdown",
      "metadata": {
        "id": "view-in-github",
        "colab_type": "text"
      },
      "source": [
        "<a href=\"https://colab.research.google.com/github/Storm00212/Introduction-to-machine-learning-models/blob/main/Violence_detection_neural_network.ipynb\" target=\"_parent\"><img src=\"https://colab.research.google.com/assets/colab-badge.svg\" alt=\"Open In Colab\"/></a>"
      ]
    },
    {
      "cell_type": "code",
      "execution_count": 1,
      "metadata": {
        "id": "mK26v4hkOwdd"
      },
      "outputs": [],
      "source": [
        "#1. System & File Handling\n",
        "import os\n",
        "import zipfile\n",
        "import random\n",
        "import glob\n",
        "import shutil\n",
        "#2. Video Processing & Image Utilities\n",
        "import cv2                # OpenCV for reading videos & extracting frames\n",
        "import numpy as np\n",
        "from PIL import Image     # Optional for additional image manipulation\n",
        "#3. Data Analysis & Visualization\n",
        "import pandas as pd\n",
        "import matplotlib.pyplot as plt\n",
        "import seaborn as sns\n",
        "\n",
        "# Enable inline plotting for Colab\n",
        "%matplotlib inline\n",
        "#4. Machine Learning / Deep Learning\n",
        "import tensorflow as tf\n",
        "from tensorflow import keras\n",
        "from tensorflow.keras import layers, models\n",
        "from tensorflow.keras.utils import to_categorical\n",
        "from tensorflow.keras.preprocessing.image import ImageDataGenerator\n",
        "#5. Deep Learning Layers and Tools\n",
        "from tensorflow.keras.layers import (\n",
        "    Conv2D, MaxPooling2D, Flatten, Dense, Dropout, LSTM, TimeDistributed, BatchNormalization\n",
        ")\n",
        "from tensorflow.keras.models import Sequential\n",
        "from tensorflow.keras.optimizers import Adam\n",
        "# 6. Model Evaluation Tools\n",
        "from sklearn.model_selection import train_test_split\n",
        "from sklearn.metrics import classification_report, confusion_matrix, accuracy_score\n",
        "import itertools\n",
        "#  7. Progress & Logging\n",
        "from tqdm import tqdm     # for progress bars\n",
        "import warnings\n",
        "warnings.filterwarnings('ignore')\n"
      ]
    }
  ]
}